{
 "cells": [
  {
   "cell_type": "markdown",
   "metadata": {},
   "source": [
    "### Data Preparation\n",
    "(Spark)\n",
    "\n",
    "* Inputs:\n",
    "    * /datasets/raw/brazil_covid19_cities.csv\n",
    "    * /datasets/raw/Lista_Municípios_com_IBGE_Brasil_Versao_CSV.csv\n",
    "    * /datasets/pesquisas_ibge_cidades/df_id_ibge/ (parquet)\n",
    "* Outputs:\n",
    "    * prepared/df_covid_complete/ (parquet)"
   ]
  },
  {
   "cell_type": "code",
   "execution_count": 1,
   "metadata": {},
   "outputs": [],
   "source": [
    "# Spark\n",
    "import findspark\n",
    "findspark.init()\n",
    "\n",
    "from pyspark.sql import SparkSession\n",
    "import pyspark.sql.functions as f\n",
    "import pyspark.sql.types as t\n",
    "from pyspark.sql.window import Window\n",
    "\n",
    "spark = SparkSession \\\n",
    "            .builder \\\n",
    "            .config(\"spark.sql.broadcastTimeout\", \"360000\") \\\n",
    "            .config('spark.sql.execution.arrow.enabled', 'false') \\\n",
    "            .config(\"spark.driver.memory\", '14G') \\\n",
    "            .config(\"spark.executor.memory\", '14G') \\\n",
    "            .config(\"spark.driver.maxResultSize\", '4G') \\\n",
    "            .getOrCreate()"
   ]
  },
  {
   "cell_type": "code",
   "execution_count": 2,
   "metadata": {},
   "outputs": [],
   "source": [
    "import pandas as pd\n",
    "from itertools import chain"
   ]
  },
  {
   "cell_type": "markdown",
   "metadata": {},
   "source": [
    "### 0. Constantes"
   ]
  },
  {
   "cell_type": "code",
   "execution_count": 3,
   "metadata": {},
   "outputs": [],
   "source": [
    "main_path = 'D:/data_dash_covid/datasets/'"
   ]
  },
  {
   "cell_type": "markdown",
   "metadata": {},
   "source": [
    "### 1. Read data"
   ]
  },
  {
   "cell_type": "code",
   "execution_count": 4,
   "metadata": {},
   "outputs": [],
   "source": [
    "# IBGE adota cód município de 6 e de 7 dígitos. Fazer o DE-PARA\n",
    "\n",
    "br_cod_munic = spark.read.csv(main_path+'raw/Lista_Municípios_com_IBGE_Brasil_Versao_CSV.csv', \n",
    "                              sep=';', header=True, encoding='ISO-8859-1')\\\n",
    "                    .select('IBGE','IBGE7')\\\n",
    "                    .withColumnRenamed('IBGE','Município_Cod_6')\\\n",
    "                    .withColumnRenamed('IBGE7','Município_Cod_7')"
   ]
  },
  {
   "cell_type": "code",
   "execution_count": 5,
   "metadata": {},
   "outputs": [],
   "source": [
    "df = spark.read.csv(main_path+'raw/brazil_covid19_cities.csv', header=True)\\\n",
    "          .select('date','code','cases','deaths')\\\n",
    "          .withColumnRenamed('date','Data')\\\n",
    "          .withColumnRenamed('cases','Casos_Cumul')\\\n",
    "          .withColumnRenamed('deaths','Mortes_Cumul')\\\n",
    "          .withColumnRenamed('code','Município_Cod_6')\\\n",
    "          .withColumn('Município_Cod_6', f.col('Município_Cod_6').cast('int'))"
   ]
  },
  {
   "cell_type": "code",
   "execution_count": 6,
   "metadata": {},
   "outputs": [],
   "source": [
    "df_id_ibge = spark.read.parquet(main_path+'pesquisas_ibge_cidades/df_id_ibge/')\\\n",
    "                  .select('id_uf','sigla_uf','nome_uf','id_regiao','nome_regiao','id_cidade','nome_cidade')\\\n",
    "                  .distinct()\\\n",
    "                  .withColumnRenamed('id_cidade','Município_Cod_7')\\\n",
    "                  .withColumnRenamed('sigla_uf','UF')\\\n",
    "                  .withColumnRenamed('id_uf','UF_Cod')\\\n",
    "                  .withColumnRenamed('nome_uf','UF_Nome')\\\n",
    "                  .withColumnRenamed('nome_regiao','Região')\\\n",
    "                  .withColumnRenamed('id_regiao','Região_Cod')\\\n",
    "                  .withColumnRenamed('nome_cidade','Município')"
   ]
  },
  {
   "cell_type": "code",
   "execution_count": 7,
   "metadata": {},
   "outputs": [],
   "source": [
    "df = df.join(br_cod_munic, 'Município_Cod_6', 'left')\\\n",
    "        .join(df_id_ibge, 'Município_Cod_7', 'left')\\\n",
    "        .drop('Município_Cod_6')\\\n",
    "        .withColumnRenamed('Município_Cod_7','Município_Cod')"
   ]
  },
  {
   "cell_type": "markdown",
   "metadata": {},
   "source": [
    "### 2. Dimensões tempo"
   ]
  },
  {
   "cell_type": "code",
   "execution_count": 8,
   "metadata": {},
   "outputs": [],
   "source": [
    "df = df.withColumn('Mês', f.month('Data')) \\\n",
    "        .withColumn('Mês_Nome', f.date_format('Data', 'MMMM')) \\\n",
    "        .withColumn('Dia_Semana', f.dayofweek('Data')) \\\n",
    "        .withColumn('Dia_Semana_Nome', f.date_format('Data', 'EEEE')) \\\n",
    "        .withColumn('Semana_Ano', f.weekofyear('Data'))"
   ]
  },
  {
   "cell_type": "code",
   "execution_count": 9,
   "metadata": {},
   "outputs": [],
   "source": [
    "month_dict = {\"March\":\"Março\", \"April\":\"Abril\", \"May\":\"Maio\", \"June\":\"Junho\", \"July\":\"Julho\", \"August\":\"Agosto\",\n",
    "              \"September\":\"Setembro\", \"October\":\"Outubro\"}\n",
    "\n",
    "mapping_month = f.create_map([f.lit(x) for x in chain(*month_dict.items())])"
   ]
  },
  {
   "cell_type": "code",
   "execution_count": 10,
   "metadata": {},
   "outputs": [],
   "source": [
    "weekday_dict = {\"Sunday\":\"Domingo\", \"Monday\":\"Segunda-feira\", \"Tuesday\":\"Terça-feira\", \"Wednesday\":\"Quarta-feira\", \n",
    "                \"Thursday\":\"Quinta-feira\", \"Friday\":\"Sexta-feira\", \"Saturday\":\"Sábado\",}\n",
    "\n",
    "mapping_weekday = f.create_map([f.lit(x) for x in chain(*weekday_dict.items())])"
   ]
  },
  {
   "cell_type": "code",
   "execution_count": 11,
   "metadata": {},
   "outputs": [],
   "source": [
    "df = df.withColumn('Mês_Nome', mapping_month[f.col('Mês_Nome')])\\\n",
    "       .withColumn('Dia_Semana_Nome', mapping_weekday[f.col('Dia_Semana_Nome')])"
   ]
  },
  {
   "cell_type": "markdown",
   "metadata": {},
   "source": [
    "### 3. Novos casos e novas mortes\n",
    "\n",
    "O dado original exibe o acumulado até a data, fazer a diferença entre hoje e ontem para obter os novos casos e mortes"
   ]
  },
  {
   "cell_type": "code",
   "execution_count": 12,
   "metadata": {},
   "outputs": [],
   "source": [
    "w = Window.partitionBy('Município_Cod').orderBy('Data')\n",
    "df = df.withColumn('Casos_Ontem', f.lag('Casos_Cumul').over(w)) \\\n",
    "        .withColumn('Novos_Casos', f.col('Casos_Cumul') - f.col('Casos_Ontem')) \\\n",
    "        .withColumn('Mortes_Ontem', f.lag('Mortes_Cumul').over(w)) \\\n",
    "        .withColumn('Novas_Mortes', f.col('Mortes_Cumul') - f.col('Mortes_Ontem')) \\\n",
    "        .drop('Casos_Ontem', 'Mortes_Ontem')"
   ]
  },
  {
   "cell_type": "markdown",
   "metadata": {},
   "source": [
    "### 4. Export final data"
   ]
  },
  {
   "cell_type": "code",
   "execution_count": 13,
   "metadata": {},
   "outputs": [],
   "source": [
    "df.write.parquet(main_path+'prepared/df_covid_complete/', mode='overwrite')"
   ]
  },
  {
   "cell_type": "code",
   "execution_count": null,
   "metadata": {},
   "outputs": [],
   "source": [
    "df.toPandas().to_csv(main_path+'prepared/pd_df_covid_complete.csv', sep=';', index=False, header=True)"
   ]
  },
  {
   "cell_type": "code",
   "execution_count": 14,
   "metadata": {},
   "outputs": [
    {
     "data": {
      "text/html": [
       "<div>\n",
       "<style scoped>\n",
       "    .dataframe tbody tr th:only-of-type {\n",
       "        vertical-align: middle;\n",
       "    }\n",
       "\n",
       "    .dataframe tbody tr th {\n",
       "        vertical-align: top;\n",
       "    }\n",
       "\n",
       "    .dataframe thead th {\n",
       "        text-align: right;\n",
       "    }\n",
       "</style>\n",
       "<table border=\"1\" class=\"dataframe\">\n",
       "  <thead>\n",
       "    <tr style=\"text-align: right;\">\n",
       "      <th></th>\n",
       "      <th>Município_Cod</th>\n",
       "      <th>Data</th>\n",
       "      <th>Casos_Cumul</th>\n",
       "      <th>Mortes_Cumul</th>\n",
       "      <th>UF_Cod</th>\n",
       "      <th>UF</th>\n",
       "      <th>UF_Nome</th>\n",
       "      <th>Região_Cod</th>\n",
       "      <th>Região</th>\n",
       "      <th>Município</th>\n",
       "      <th>Mês</th>\n",
       "      <th>Mês_Nome</th>\n",
       "      <th>Dia_Semana</th>\n",
       "      <th>Dia_Semana_Nome</th>\n",
       "      <th>Semana_Ano</th>\n",
       "      <th>Novos_Casos</th>\n",
       "      <th>Novas_Mortes</th>\n",
       "    </tr>\n",
       "  </thead>\n",
       "  <tbody>\n",
       "    <tr>\n",
       "      <th>0</th>\n",
       "      <td>1302108</td>\n",
       "      <td>2020-03-27</td>\n",
       "      <td>0</td>\n",
       "      <td>0</td>\n",
       "      <td>13</td>\n",
       "      <td>AM</td>\n",
       "      <td>Amazonas</td>\n",
       "      <td>1</td>\n",
       "      <td>Norte</td>\n",
       "      <td>Japurá</td>\n",
       "      <td>3</td>\n",
       "      <td>Março</td>\n",
       "      <td>6</td>\n",
       "      <td>Sexta-feira</td>\n",
       "      <td>13</td>\n",
       "      <td>NaN</td>\n",
       "      <td>NaN</td>\n",
       "    </tr>\n",
       "    <tr>\n",
       "      <th>1</th>\n",
       "      <td>1302108</td>\n",
       "      <td>2020-03-28</td>\n",
       "      <td>0</td>\n",
       "      <td>0</td>\n",
       "      <td>13</td>\n",
       "      <td>AM</td>\n",
       "      <td>Amazonas</td>\n",
       "      <td>1</td>\n",
       "      <td>Norte</td>\n",
       "      <td>Japurá</td>\n",
       "      <td>3</td>\n",
       "      <td>Março</td>\n",
       "      <td>7</td>\n",
       "      <td>Sábado</td>\n",
       "      <td>13</td>\n",
       "      <td>0.0</td>\n",
       "      <td>0.0</td>\n",
       "    </tr>\n",
       "    <tr>\n",
       "      <th>2</th>\n",
       "      <td>1302108</td>\n",
       "      <td>2020-03-29</td>\n",
       "      <td>0</td>\n",
       "      <td>0</td>\n",
       "      <td>13</td>\n",
       "      <td>AM</td>\n",
       "      <td>Amazonas</td>\n",
       "      <td>1</td>\n",
       "      <td>Norte</td>\n",
       "      <td>Japurá</td>\n",
       "      <td>3</td>\n",
       "      <td>Março</td>\n",
       "      <td>1</td>\n",
       "      <td>Domingo</td>\n",
       "      <td>13</td>\n",
       "      <td>0.0</td>\n",
       "      <td>0.0</td>\n",
       "    </tr>\n",
       "    <tr>\n",
       "      <th>3</th>\n",
       "      <td>1302108</td>\n",
       "      <td>2020-03-30</td>\n",
       "      <td>0</td>\n",
       "      <td>0</td>\n",
       "      <td>13</td>\n",
       "      <td>AM</td>\n",
       "      <td>Amazonas</td>\n",
       "      <td>1</td>\n",
       "      <td>Norte</td>\n",
       "      <td>Japurá</td>\n",
       "      <td>3</td>\n",
       "      <td>Março</td>\n",
       "      <td>2</td>\n",
       "      <td>Segunda-feira</td>\n",
       "      <td>14</td>\n",
       "      <td>0.0</td>\n",
       "      <td>0.0</td>\n",
       "    </tr>\n",
       "    <tr>\n",
       "      <th>4</th>\n",
       "      <td>1302108</td>\n",
       "      <td>2020-03-31</td>\n",
       "      <td>0</td>\n",
       "      <td>0</td>\n",
       "      <td>13</td>\n",
       "      <td>AM</td>\n",
       "      <td>Amazonas</td>\n",
       "      <td>1</td>\n",
       "      <td>Norte</td>\n",
       "      <td>Japurá</td>\n",
       "      <td>3</td>\n",
       "      <td>Março</td>\n",
       "      <td>3</td>\n",
       "      <td>Terça-feira</td>\n",
       "      <td>14</td>\n",
       "      <td>0.0</td>\n",
       "      <td>0.0</td>\n",
       "    </tr>\n",
       "    <tr>\n",
       "      <th>5</th>\n",
       "      <td>1302108</td>\n",
       "      <td>2020-04-01</td>\n",
       "      <td>0</td>\n",
       "      <td>0</td>\n",
       "      <td>13</td>\n",
       "      <td>AM</td>\n",
       "      <td>Amazonas</td>\n",
       "      <td>1</td>\n",
       "      <td>Norte</td>\n",
       "      <td>Japurá</td>\n",
       "      <td>4</td>\n",
       "      <td>Abril</td>\n",
       "      <td>4</td>\n",
       "      <td>Quarta-feira</td>\n",
       "      <td>14</td>\n",
       "      <td>0.0</td>\n",
       "      <td>0.0</td>\n",
       "    </tr>\n",
       "    <tr>\n",
       "      <th>6</th>\n",
       "      <td>1302108</td>\n",
       "      <td>2020-04-02</td>\n",
       "      <td>0</td>\n",
       "      <td>0</td>\n",
       "      <td>13</td>\n",
       "      <td>AM</td>\n",
       "      <td>Amazonas</td>\n",
       "      <td>1</td>\n",
       "      <td>Norte</td>\n",
       "      <td>Japurá</td>\n",
       "      <td>4</td>\n",
       "      <td>Abril</td>\n",
       "      <td>5</td>\n",
       "      <td>Quinta-feira</td>\n",
       "      <td>14</td>\n",
       "      <td>0.0</td>\n",
       "      <td>0.0</td>\n",
       "    </tr>\n",
       "    <tr>\n",
       "      <th>7</th>\n",
       "      <td>1302108</td>\n",
       "      <td>2020-04-03</td>\n",
       "      <td>0</td>\n",
       "      <td>0</td>\n",
       "      <td>13</td>\n",
       "      <td>AM</td>\n",
       "      <td>Amazonas</td>\n",
       "      <td>1</td>\n",
       "      <td>Norte</td>\n",
       "      <td>Japurá</td>\n",
       "      <td>4</td>\n",
       "      <td>Abril</td>\n",
       "      <td>6</td>\n",
       "      <td>Sexta-feira</td>\n",
       "      <td>14</td>\n",
       "      <td>0.0</td>\n",
       "      <td>0.0</td>\n",
       "    </tr>\n",
       "    <tr>\n",
       "      <th>8</th>\n",
       "      <td>1302108</td>\n",
       "      <td>2020-04-04</td>\n",
       "      <td>0</td>\n",
       "      <td>0</td>\n",
       "      <td>13</td>\n",
       "      <td>AM</td>\n",
       "      <td>Amazonas</td>\n",
       "      <td>1</td>\n",
       "      <td>Norte</td>\n",
       "      <td>Japurá</td>\n",
       "      <td>4</td>\n",
       "      <td>Abril</td>\n",
       "      <td>7</td>\n",
       "      <td>Sábado</td>\n",
       "      <td>14</td>\n",
       "      <td>0.0</td>\n",
       "      <td>0.0</td>\n",
       "    </tr>\n",
       "    <tr>\n",
       "      <th>9</th>\n",
       "      <td>1302108</td>\n",
       "      <td>2020-04-05</td>\n",
       "      <td>0</td>\n",
       "      <td>0</td>\n",
       "      <td>13</td>\n",
       "      <td>AM</td>\n",
       "      <td>Amazonas</td>\n",
       "      <td>1</td>\n",
       "      <td>Norte</td>\n",
       "      <td>Japurá</td>\n",
       "      <td>4</td>\n",
       "      <td>Abril</td>\n",
       "      <td>1</td>\n",
       "      <td>Domingo</td>\n",
       "      <td>14</td>\n",
       "      <td>0.0</td>\n",
       "      <td>0.0</td>\n",
       "    </tr>\n",
       "  </tbody>\n",
       "</table>\n",
       "</div>"
      ],
      "text/plain": [
       "  Município_Cod        Data Casos_Cumul Mortes_Cumul  UF_Cod  UF   UF_Nome  \\\n",
       "0       1302108  2020-03-27           0            0      13  AM  Amazonas   \n",
       "1       1302108  2020-03-28           0            0      13  AM  Amazonas   \n",
       "2       1302108  2020-03-29           0            0      13  AM  Amazonas   \n",
       "3       1302108  2020-03-30           0            0      13  AM  Amazonas   \n",
       "4       1302108  2020-03-31           0            0      13  AM  Amazonas   \n",
       "5       1302108  2020-04-01           0            0      13  AM  Amazonas   \n",
       "6       1302108  2020-04-02           0            0      13  AM  Amazonas   \n",
       "7       1302108  2020-04-03           0            0      13  AM  Amazonas   \n",
       "8       1302108  2020-04-04           0            0      13  AM  Amazonas   \n",
       "9       1302108  2020-04-05           0            0      13  AM  Amazonas   \n",
       "\n",
       "   Região_Cod Região Município  Mês Mês_Nome  Dia_Semana Dia_Semana_Nome  \\\n",
       "0           1  Norte    Japurá    3    Março           6     Sexta-feira   \n",
       "1           1  Norte    Japurá    3    Março           7          Sábado   \n",
       "2           1  Norte    Japurá    3    Março           1         Domingo   \n",
       "3           1  Norte    Japurá    3    Março           2   Segunda-feira   \n",
       "4           1  Norte    Japurá    3    Março           3     Terça-feira   \n",
       "5           1  Norte    Japurá    4    Abril           4    Quarta-feira   \n",
       "6           1  Norte    Japurá    4    Abril           5    Quinta-feira   \n",
       "7           1  Norte    Japurá    4    Abril           6     Sexta-feira   \n",
       "8           1  Norte    Japurá    4    Abril           7          Sábado   \n",
       "9           1  Norte    Japurá    4    Abril           1         Domingo   \n",
       "\n",
       "   Semana_Ano  Novos_Casos  Novas_Mortes  \n",
       "0          13          NaN           NaN  \n",
       "1          13          0.0           0.0  \n",
       "2          13          0.0           0.0  \n",
       "3          14          0.0           0.0  \n",
       "4          14          0.0           0.0  \n",
       "5          14          0.0           0.0  \n",
       "6          14          0.0           0.0  \n",
       "7          14          0.0           0.0  \n",
       "8          14          0.0           0.0  \n",
       "9          14          0.0           0.0  "
      ]
     },
     "execution_count": 14,
     "metadata": {},
     "output_type": "execute_result"
    }
   ],
   "source": [
    "df.limit(10).toPandas()"
   ]
  },
  {
   "cell_type": "code",
   "execution_count": 15,
   "metadata": {},
   "outputs": [
    {
     "data": {
      "text/plain": [
       "1180840"
      ]
     },
     "execution_count": 15,
     "metadata": {},
     "output_type": "execute_result"
    }
   ],
   "source": [
    "df.count()"
   ]
  },
  {
   "cell_type": "code",
   "execution_count": null,
   "metadata": {},
   "outputs": [],
   "source": []
  }
 ],
 "metadata": {
  "kernelspec": {
   "display_name": "Python 3",
   "language": "python",
   "name": "python3"
  },
  "language_info": {
   "codemirror_mode": {
    "name": "ipython",
    "version": 3
   },
   "file_extension": ".py",
   "mimetype": "text/x-python",
   "name": "python",
   "nbconvert_exporter": "python",
   "pygments_lexer": "ipython3",
   "version": "3.8.5"
  }
 },
 "nbformat": 4,
 "nbformat_minor": 4
}
