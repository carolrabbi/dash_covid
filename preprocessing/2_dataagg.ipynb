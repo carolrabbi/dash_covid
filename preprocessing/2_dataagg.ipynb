{
 "cells": [
  {
   "cell_type": "markdown",
   "metadata": {},
   "source": [
    "### Data Aggregations\n",
    "(Spark)\n",
    "\n",
    "Agregações prontas para serem consumidas pelo Dash Plotly, ou seja, devem estar em CSV.\n",
    "\n",
    "* Inputs:\n",
    "    * /datasets/prepared/df_covid_complete/ (parquet)\n",
    "* Outputs:\n",
    "    * /aggregations/df_new_month_br.csv\n",
    "    * /aggregations/df_new_day_br.csv\n",
    "    * /aggregations/df_new_weekday_br.csv\n",
    "    * /aggregations/df_mvg_avg_br.csv\n",
    "    * /aggregations/df_let_br.csv\n",
    "    * /aggregations/df_new_weekday_reg.csv\n",
    "    * /aggregations/df_let_reg.csv\n",
    "    * /aggregations/df_new_month_uf.csv\n",
    "    * /aggregations/df_mvg_avg_uf.csv\n",
    "    * /aggregations/df_let_uf.csv\n",
    "    * /aggregations/df_new_month_munic.csv\n",
    "    * /aggregations/df_mvg_avg_munic.csv\n",
    "    * /aggregations/df_let_munic.csv"
   ]
  },
  {
   "cell_type": "code",
   "execution_count": 1,
   "metadata": {},
   "outputs": [],
   "source": [
    "# Spark\n",
    "import findspark\n",
    "findspark.init()\n",
    "\n",
    "from pyspark.sql import SparkSession\n",
    "import pyspark.sql.functions as f\n",
    "import pyspark.sql.types as t\n",
    "from pyspark.sql.window import Window\n",
    "\n",
    "spark = SparkSession \\\n",
    "            .builder \\\n",
    "            .config(\"spark.sql.broadcastTimeout\", \"360000\") \\\n",
    "            .config('spark.sql.execution.arrow.enabled', 'false') \\\n",
    "            .config(\"spark.driver.memory\", '14G') \\\n",
    "            .config(\"spark.executor.memory\", '14G') \\\n",
    "            .config(\"spark.driver.maxResultSize\", '4G') \\\n",
    "            .getOrCreate()"
   ]
  },
  {
   "cell_type": "code",
   "execution_count": 2,
   "metadata": {},
   "outputs": [],
   "source": [
    "import pandas as pd\n",
    "from itertools import chain"
   ]
  },
  {
   "cell_type": "markdown",
   "metadata": {},
   "source": [
    "### 0. Constantes"
   ]
  },
  {
   "cell_type": "code",
   "execution_count": 3,
   "metadata": {},
   "outputs": [],
   "source": [
    "main_path = 'D:/data_dash_covid/datasets/'"
   ]
  },
  {
   "cell_type": "code",
   "execution_count": 4,
   "metadata": {},
   "outputs": [],
   "source": [
    "# Média móvel de 14 dias (período incubação)\n",
    "dias_mm = 13"
   ]
  },
  {
   "cell_type": "code",
   "execution_count": 5,
   "metadata": {},
   "outputs": [],
   "source": [
    "# Última data disponível do dado\n",
    "data_max = '2020-10-24'"
   ]
  },
  {
   "cell_type": "markdown",
   "metadata": {},
   "source": [
    "### 1. Read data"
   ]
  },
  {
   "cell_type": "code",
   "execution_count": 6,
   "metadata": {},
   "outputs": [],
   "source": [
    "df = spark.read.parquet(main_path+'prepared/df_covid_complete/')"
   ]
  },
  {
   "cell_type": "markdown",
   "metadata": {},
   "source": [
    "### 2. Agregações Brasil\n",
    "\n",
    "* Novos Casos x Mês x Brasil\n",
    "* Novas Mortes x Mês x Brasil\n",
    "* Novos Casos x Dia x Brasil\n",
    "* Novas Mortes x Dia x Brasil\n",
    "* Novos Casos x Dia Semana x Brasil\n",
    "* Novas Mortes x Dia Semana x Brasil\n",
    "* Média Móvel Casos x Dia x Brasil\n",
    "* Média Móvel Mortes x Dia x Brasil\n",
    "* Letalidade x Último Dia x Brasil"
   ]
  },
  {
   "cell_type": "markdown",
   "metadata": {},
   "source": [
    "#### 2.1. Novos Casos e Mortes x Mês x Brasil"
   ]
  },
  {
   "cell_type": "code",
   "execution_count": 7,
   "metadata": {},
   "outputs": [],
   "source": [
    "df_new_month_br = df.withColumn('País',f.lit('Brasil'))\\\n",
    "                     .groupBy('Mês','Mês_Nome','País')\\\n",
    "                     .agg(f.sum('Novos_casos').alias('Novos_Casos'), f.sum('Novas_Mortes').alias('Novas_Mortes'))\\\n",
    "                     .orderBy('Mês')"
   ]
  },
  {
   "cell_type": "code",
   "execution_count": 8,
   "metadata": {},
   "outputs": [],
   "source": [
    "# df_new_month_br.limit(10).toPandas()"
   ]
  },
  {
   "cell_type": "code",
   "execution_count": 9,
   "metadata": {},
   "outputs": [],
   "source": [
    "df_new_month_br.toPandas()\\\n",
    "  .to_csv(main_path+'aggregations/df_new_month_br.csv', sep=';', index=False, encoding='UTF-8')"
   ]
  },
  {
   "cell_type": "markdown",
   "metadata": {},
   "source": [
    "#### 2.2. Novos Casos e Mortes x Dia x Brasil"
   ]
  },
  {
   "cell_type": "code",
   "execution_count": 10,
   "metadata": {},
   "outputs": [],
   "source": [
    "df_new_day_br = df.withColumn('País',f.lit('Brasil'))\\\n",
    "                    .groupBy('Data','País')\\\n",
    "                    .agg(f.sum('Novos_Casos').alias('Novos_Casos'), f.sum('Novas_Mortes').alias('Novas_Mortes'))\\\n",
    "                     .orderBy('Data')"
   ]
  },
  {
   "cell_type": "code",
   "execution_count": 11,
   "metadata": {},
   "outputs": [],
   "source": [
    "# df_new_day_br.limit(10).toPandas()"
   ]
  },
  {
   "cell_type": "code",
   "execution_count": 12,
   "metadata": {},
   "outputs": [],
   "source": [
    "df_new_day_br.toPandas()\\\n",
    "  .to_csv(main_path+'aggregations/df_new_day_br.csv', sep=';', index=False, encoding='UTF-8')"
   ]
  },
  {
   "cell_type": "markdown",
   "metadata": {},
   "source": [
    "#### 2.3. Novos Casos e Mortes x Dia Semana x Brasil"
   ]
  },
  {
   "cell_type": "code",
   "execution_count": 13,
   "metadata": {},
   "outputs": [],
   "source": [
    "df_new_weekday_br = df.withColumn('País',f.lit('Brasil'))\\\n",
    "                        .groupBy('Dia_Semana','Dia_Semana_Nome','País')\\\n",
    "                        .agg(f.sum('Novos_Casos').alias('Novos_Casos'), f.sum('Novas_Mortes').alias('Novas_Mortes'))\\\n",
    "                        .orderBy('Dia_Semana')"
   ]
  },
  {
   "cell_type": "code",
   "execution_count": 14,
   "metadata": {},
   "outputs": [],
   "source": [
    "# df_new_weekday_br.limit(10).toPandas()"
   ]
  },
  {
   "cell_type": "code",
   "execution_count": 15,
   "metadata": {},
   "outputs": [],
   "source": [
    "df_new_weekday_br.toPandas()\\\n",
    "  .to_csv(main_path+'aggregations/df_new_weekday_br.csv', sep=';', index=False, encoding='UTF-8')"
   ]
  },
  {
   "cell_type": "markdown",
   "metadata": {},
   "source": [
    "#### 2.4. Média Móvel Casos e Mortes x Dia x Brasil"
   ]
  },
  {
   "cell_type": "code",
   "execution_count": 16,
   "metadata": {},
   "outputs": [],
   "source": [
    "w = Window.orderBy('Data').rowsBetween(-dias_mm, 0)\n",
    "df_mvg_avg_br = df.withColumn('País',f.lit('Brasil'))\\\n",
    "                    .groupBy('Data','País')\\\n",
    "                    .agg(f.sum('Novos_Casos').alias('Novos_Casos'), f.sum('Novas_Mortes').alias('Novas_Mortes'))\\\n",
    "                    .withColumn('Média_Móvel_Casos', f.avg('Novos_Casos').over(w))\\\n",
    "                    .withColumn('Média_Móvel_Mortes', f.avg('Novas_Mortes').over(w))\\\n",
    "                    .withColumn('Média_Móvel_Casos', f.round('Média_Móvel_Casos',2))\\\n",
    "                    .withColumn('Média_Móvel_Mortes', f.round('Média_Móvel_Mortes',2))\\\n",
    "                    .drop('Novos_Casos','Novas_Mortes')\\\n",
    "                    .orderBy('Data')"
   ]
  },
  {
   "cell_type": "code",
   "execution_count": 17,
   "metadata": {},
   "outputs": [],
   "source": [
    "# df_mvg_avg_br.limit(10).toPandas()"
   ]
  },
  {
   "cell_type": "code",
   "execution_count": 18,
   "metadata": {},
   "outputs": [],
   "source": [
    "df_mvg_avg_br.toPandas()\\\n",
    "  .to_csv(main_path+'aggregations/df_mvg_avg_br.csv', sep=';', index=False, encoding='UTF-8')"
   ]
  },
  {
   "cell_type": "markdown",
   "metadata": {},
   "source": [
    "#### 2.5. Letalidade x Último Dia x Brasil"
   ]
  },
  {
   "cell_type": "code",
   "execution_count": 15,
   "metadata": {},
   "outputs": [],
   "source": [
    "df_let_br = df.filter(f.col('Data') == f.lit(data_max)) \\\n",
    "                .withColumn('País',f.lit('Brasil'))\\\n",
    "                .groupBy('País')\\\n",
    "                .agg(f.sum('Mortes_Cumul').alias('Mortes_Cumul'), f.sum('Casos_Cumul').alias('Casos_Cumul')) \\\n",
    "                .withColumn('Taxa_Letalidade', f.round(f.col('Mortes_Cumul') / f.col('Casos_Cumul'),4))"
   ]
  },
  {
   "cell_type": "code",
   "execution_count": 16,
   "metadata": {},
   "outputs": [],
   "source": [
    "# df_let_br.limit(10).toPandas()"
   ]
  },
  {
   "cell_type": "code",
   "execution_count": 17,
   "metadata": {},
   "outputs": [],
   "source": [
    "df_let_br.toPandas()\\\n",
    "  .to_csv(main_path+'aggregations/df_let_br.csv', sep=';', index=False, encoding='UTF-8')"
   ]
  },
  {
   "cell_type": "markdown",
   "metadata": {},
   "source": [
    "### 3. Agregações Região\n",
    "\n",
    "* Novos Casos x Dia Semana x Região\n",
    "* Novas Mortes x Dia Semana x Região\n",
    "* Letalidade x Último Dia x Região"
   ]
  },
  {
   "cell_type": "markdown",
   "metadata": {},
   "source": [
    "#### 3.1. Novos Casos e Mortes x Dia Semana x Região"
   ]
  },
  {
   "cell_type": "code",
   "execution_count": 22,
   "metadata": {},
   "outputs": [],
   "source": [
    "df_new_weekday_reg = df.withColumn('País',f.lit('Brasil'))\\\n",
    "                        .groupBy('Dia_Semana','Dia_Semana_Nome','Região','Região_Cod',)\\\n",
    "                        .agg(f.sum('Novos_Casos').alias('Novos_Casos'), f.sum('Novas_Mortes').alias('Novas_Mortes'))\\\n",
    "                        .orderBy('Dia_Semana','Região_Cod')\\\n",
    "                        .drop('Região_Cod')"
   ]
  },
  {
   "cell_type": "code",
   "execution_count": 23,
   "metadata": {},
   "outputs": [],
   "source": [
    "# df_new_weekday_reg.limit(10).toPandas()"
   ]
  },
  {
   "cell_type": "code",
   "execution_count": 24,
   "metadata": {},
   "outputs": [],
   "source": [
    "df_new_weekday_reg.toPandas()\\\n",
    "  .to_csv(main_path+'aggregations/df_new_weekday_reg.csv', sep=';', index=False, encoding='UTF-8')"
   ]
  },
  {
   "cell_type": "markdown",
   "metadata": {},
   "source": [
    "#### 3.2. Letalidade x Último Dia x Região"
   ]
  },
  {
   "cell_type": "code",
   "execution_count": 25,
   "metadata": {},
   "outputs": [],
   "source": [
    "df_let_reg = df.filter(f.col('Data') == f.lit(data_max)) \\\n",
    "                .groupBy('Região','Região_Cod',)\\\n",
    "                .agg(f.sum('Mortes_Cumul').alias('Mortes_Cumul'), f.sum('Casos_Cumul').alias('Casos_Cumul')) \\\n",
    "                .withColumn('Taxa_Letalidade', f.round(f.col('Mortes_Cumul') / f.col('Casos_Cumul'), 4))\\\n",
    "                .drop('Região_Cod')"
   ]
  },
  {
   "cell_type": "code",
   "execution_count": 26,
   "metadata": {},
   "outputs": [],
   "source": [
    "# df_let_reg.limit(10).toPandas()"
   ]
  },
  {
   "cell_type": "code",
   "execution_count": 27,
   "metadata": {},
   "outputs": [],
   "source": [
    "df_let_reg.toPandas()\\\n",
    "  .to_csv(main_path+'aggregations/df_let_reg.csv', sep=';', index=False, encoding='UTF-8')"
   ]
  },
  {
   "cell_type": "markdown",
   "metadata": {},
   "source": [
    "### 4. Agregações UF\n",
    "\n",
    "* Novos Casos x Mês x UF\n",
    "* Novas Mortes x Mês x UF\n",
    "* Novos Casos x Dia x UF\n",
    "* Novas Mortes x Dia x UF\n",
    "* Média Móvel Casos x Dia x UF\n",
    "* Média Móvel Mortes x Dia x UF\n",
    "* Letalidade x Último Dia x UF"
   ]
  },
  {
   "cell_type": "markdown",
   "metadata": {},
   "source": [
    "#### 4.1. Novos Casos e Mortes x Mês x UF"
   ]
  },
  {
   "cell_type": "code",
   "execution_count": 28,
   "metadata": {},
   "outputs": [],
   "source": [
    "df_new_month_uf = df.groupBy('Mês','Mês_Nome','UF')\\\n",
    "                     .agg(f.sum('Novos_casos').alias('Novos_Casos'), f.sum('Novas_Mortes').alias('Novas_Mortes'))\\\n",
    "                     .orderBy('Mês')"
   ]
  },
  {
   "cell_type": "code",
   "execution_count": 29,
   "metadata": {},
   "outputs": [],
   "source": [
    "# df_new_month_uf.limit(10).toPandas()"
   ]
  },
  {
   "cell_type": "code",
   "execution_count": 30,
   "metadata": {},
   "outputs": [],
   "source": [
    "df_new_month_uf.toPandas()\\\n",
    "  .to_csv(main_path+'aggregations/df_new_month_uf.csv', sep=';', index=False, encoding='UTF-8')"
   ]
  },
  {
   "cell_type": "markdown",
   "metadata": {},
   "source": [
    "#### 4.2. Novos Casos e Mortes x Dia x UF"
   ]
  },
  {
   "cell_type": "code",
   "execution_count": 7,
   "metadata": {},
   "outputs": [],
   "source": [
    "df_new_day_uf = df.groupBy('Data','UF')\\\n",
    "                    .agg(f.sum('Novos_casos').alias('Novos_Casos'), f.sum('Novas_Mortes').alias('Novas_Mortes'))\\\n",
    "                    .orderBy('Data')"
   ]
  },
  {
   "cell_type": "code",
   "execution_count": 10,
   "metadata": {},
   "outputs": [],
   "source": [
    "# df_new_day_uf.limit(10).toPandas()"
   ]
  },
  {
   "cell_type": "code",
   "execution_count": 9,
   "metadata": {},
   "outputs": [],
   "source": [
    "df_new_day_uf.toPandas()\\\n",
    "  .to_csv(main_path+'aggregations/df_new_day_uf.csv', sep=';', index=False, encoding='UTF-8')"
   ]
  },
  {
   "cell_type": "markdown",
   "metadata": {},
   "source": [
    "#### 4.3. Média Móvel Casos e Mortes x Dia x UF"
   ]
  },
  {
   "cell_type": "code",
   "execution_count": 31,
   "metadata": {},
   "outputs": [],
   "source": [
    "w = Window.partitionBy('UF').orderBy('Data').rowsBetween(-dias_mm, 0)\n",
    "df_mvg_avg_uf = df.groupBy('Data','UF')\\\n",
    "                    .agg(f.sum('Novos_Casos').alias('Novos_Casos'), f.sum('Novas_Mortes').alias('Novas_Mortes'))\\\n",
    "                    .withColumn('Média_Móvel_Casos', f.avg('Novos_Casos').over(w))\\\n",
    "                    .withColumn('Média_Móvel_Mortes', f.avg('Novas_Mortes').over(w))\\\n",
    "                    .withColumn('Média_Móvel_Casos', f.round('Média_Móvel_Casos',2))\\\n",
    "                    .withColumn('Média_Móvel_Mortes', f.round('Média_Móvel_Mortes',2))\\\n",
    "                    .drop('Novos_Casos','Novas_Mortes')\\\n",
    "                    .orderBy('Data')"
   ]
  },
  {
   "cell_type": "code",
   "execution_count": 32,
   "metadata": {},
   "outputs": [],
   "source": [
    "# df_mvg_avg_uf.limit(10).toPandas()"
   ]
  },
  {
   "cell_type": "code",
   "execution_count": 33,
   "metadata": {},
   "outputs": [
    {
     "data": {
      "text/plain": [
       "5724"
      ]
     },
     "execution_count": 33,
     "metadata": {},
     "output_type": "execute_result"
    }
   ],
   "source": [
    "df_mvg_avg_uf.count()"
   ]
  },
  {
   "cell_type": "code",
   "execution_count": 34,
   "metadata": {},
   "outputs": [],
   "source": [
    "df_mvg_avg_uf.toPandas()\\\n",
    "  .to_csv(main_path+'aggregations/df_mvg_avg_uf.csv', sep=';', index=False, encoding='UTF-8')"
   ]
  },
  {
   "cell_type": "markdown",
   "metadata": {},
   "source": [
    "#### 4.4. Letalidade x Último Dia x UF"
   ]
  },
  {
   "cell_type": "code",
   "execution_count": 35,
   "metadata": {},
   "outputs": [],
   "source": [
    "df_let_uf = df.filter(f.col('Data') == f.lit(data_max)) \\\n",
    "                .groupBy('UF')\\\n",
    "                .agg(f.sum('Mortes_Cumul').alias('Mortes_Cumul'), f.sum('Casos_Cumul').alias('Casos_Cumul')) \\\n",
    "                .withColumn('Taxa_Letalidade', f.round(f.col('Mortes_Cumul') / f.col('Casos_Cumul'), 4))"
   ]
  },
  {
   "cell_type": "code",
   "execution_count": 36,
   "metadata": {},
   "outputs": [],
   "source": [
    "# df_let_uf.limit(10).toPandas()"
   ]
  },
  {
   "cell_type": "code",
   "execution_count": 37,
   "metadata": {},
   "outputs": [
    {
     "data": {
      "text/plain": [
       "27"
      ]
     },
     "execution_count": 37,
     "metadata": {},
     "output_type": "execute_result"
    }
   ],
   "source": [
    "df_let_uf.count()"
   ]
  },
  {
   "cell_type": "code",
   "execution_count": 38,
   "metadata": {},
   "outputs": [],
   "source": [
    "df_let_uf.toPandas()\\\n",
    "  .to_csv(main_path+'aggregations/df_let_uf.csv', sep=';', index=False, encoding='UTF-8')"
   ]
  },
  {
   "cell_type": "markdown",
   "metadata": {},
   "source": [
    "### 5. Agregações Município\n",
    "\n",
    "* Novos Casos x Mês x Município\n",
    "* Novas Mortes x Mês x Município\n",
    "* Média Móvel Casos x Dia x Município\n",
    "* Média Móvel Mortes x Dia x Município\n",
    "* Letalidade x Último Dia x Município"
   ]
  },
  {
   "cell_type": "markdown",
   "metadata": {},
   "source": [
    "#### 5.1. Novos Casos e Mortes x Mês x Município"
   ]
  },
  {
   "cell_type": "code",
   "execution_count": 7,
   "metadata": {},
   "outputs": [],
   "source": [
    "df_new_month_munic = df.groupBy('Mês','Mês_Nome','Município','Município_Cod','Região','UF')\\\n",
    "                        .agg(f.sum('Novos_casos').alias('Novos_Casos'), f.sum('Novas_Mortes').alias('Novas_Mortes'))\\\n",
    "                        .orderBy('Mês')"
   ]
  },
  {
   "cell_type": "code",
   "execution_count": 8,
   "metadata": {},
   "outputs": [
    {
     "data": {
      "text/html": [
       "<div>\n",
       "<style scoped>\n",
       "    .dataframe tbody tr th:only-of-type {\n",
       "        vertical-align: middle;\n",
       "    }\n",
       "\n",
       "    .dataframe tbody tr th {\n",
       "        vertical-align: top;\n",
       "    }\n",
       "\n",
       "    .dataframe thead th {\n",
       "        text-align: right;\n",
       "    }\n",
       "</style>\n",
       "<table border=\"1\" class=\"dataframe\">\n",
       "  <thead>\n",
       "    <tr style=\"text-align: right;\">\n",
       "      <th></th>\n",
       "      <th>Mês</th>\n",
       "      <th>Mês_Nome</th>\n",
       "      <th>Município</th>\n",
       "      <th>Município_Cod</th>\n",
       "      <th>Região</th>\n",
       "      <th>UF</th>\n",
       "      <th>Novos_Casos</th>\n",
       "      <th>Novas_Mortes</th>\n",
       "    </tr>\n",
       "  </thead>\n",
       "  <tbody>\n",
       "    <tr>\n",
       "      <th>0</th>\n",
       "      <td>3</td>\n",
       "      <td>Março</td>\n",
       "      <td>Pombos</td>\n",
       "      <td>2611309</td>\n",
       "      <td>Nordeste</td>\n",
       "      <td>PE</td>\n",
       "      <td>0.0</td>\n",
       "      <td>0.0</td>\n",
       "    </tr>\n",
       "    <tr>\n",
       "      <th>1</th>\n",
       "      <td>3</td>\n",
       "      <td>Março</td>\n",
       "      <td>Bebedouro</td>\n",
       "      <td>3506102</td>\n",
       "      <td>Sudeste</td>\n",
       "      <td>SP</td>\n",
       "      <td>0.0</td>\n",
       "      <td>0.0</td>\n",
       "    </tr>\n",
       "    <tr>\n",
       "      <th>2</th>\n",
       "      <td>3</td>\n",
       "      <td>Março</td>\n",
       "      <td>Rialma</td>\n",
       "      <td>5218607</td>\n",
       "      <td>Centro-Oeste</td>\n",
       "      <td>GO</td>\n",
       "      <td>0.0</td>\n",
       "      <td>0.0</td>\n",
       "    </tr>\n",
       "    <tr>\n",
       "      <th>3</th>\n",
       "      <td>3</td>\n",
       "      <td>Março</td>\n",
       "      <td>Flora Rica</td>\n",
       "      <td>3515806</td>\n",
       "      <td>Sudeste</td>\n",
       "      <td>SP</td>\n",
       "      <td>0.0</td>\n",
       "      <td>0.0</td>\n",
       "    </tr>\n",
       "    <tr>\n",
       "      <th>4</th>\n",
       "      <td>3</td>\n",
       "      <td>Março</td>\n",
       "      <td>Vila Nova do Sul</td>\n",
       "      <td>4323457</td>\n",
       "      <td>Sul</td>\n",
       "      <td>RS</td>\n",
       "      <td>0.0</td>\n",
       "      <td>0.0</td>\n",
       "    </tr>\n",
       "  </tbody>\n",
       "</table>\n",
       "</div>"
      ],
      "text/plain": [
       "   Mês Mês_Nome         Município Município_Cod        Região  UF  \\\n",
       "0    3    Março            Pombos       2611309      Nordeste  PE   \n",
       "1    3    Março         Bebedouro       3506102       Sudeste  SP   \n",
       "2    3    Março            Rialma       5218607  Centro-Oeste  GO   \n",
       "3    3    Março        Flora Rica       3515806       Sudeste  SP   \n",
       "4    3    Março  Vila Nova do Sul       4323457           Sul  RS   \n",
       "\n",
       "   Novos_Casos  Novas_Mortes  \n",
       "0          0.0           0.0  \n",
       "1          0.0           0.0  \n",
       "2          0.0           0.0  \n",
       "3          0.0           0.0  \n",
       "4          0.0           0.0  "
      ]
     },
     "execution_count": 8,
     "metadata": {},
     "output_type": "execute_result"
    }
   ],
   "source": [
    "df_new_month_munic.limit(5).toPandas()"
   ]
  },
  {
   "cell_type": "code",
   "execution_count": 9,
   "metadata": {},
   "outputs": [
    {
     "data": {
      "text/plain": [
       "44560"
      ]
     },
     "execution_count": 9,
     "metadata": {},
     "output_type": "execute_result"
    }
   ],
   "source": [
    "df_new_month_munic.count()"
   ]
  },
  {
   "cell_type": "code",
   "execution_count": 10,
   "metadata": {},
   "outputs": [],
   "source": [
    "df_new_month_munic.toPandas()\\\n",
    "  .to_csv(main_path+'aggregations/df_new_month_munic.csv', sep=';', index=False, encoding='UTF-8')"
   ]
  },
  {
   "cell_type": "markdown",
   "metadata": {},
   "source": [
    "#### 5.2. Média Móvel Casos e Mortes x Dia x Município"
   ]
  },
  {
   "cell_type": "code",
   "execution_count": 11,
   "metadata": {},
   "outputs": [],
   "source": [
    "w = Window.partitionBy('Município_Cod').orderBy('Data').rowsBetween(-dias_mm, 0)\n",
    "df_mvg_avg_munic = df.groupBy('Data','Município','Município_Cod','Região','UF')\\\n",
    "                        .agg(f.sum('Novos_Casos').alias('Novos_Casos'), f.sum('Novas_Mortes').alias('Novas_Mortes'))\\\n",
    "                        .withColumn('Média_Móvel_Casos', f.avg('Novos_Casos').over(w))\\\n",
    "                        .withColumn('Média_Móvel_Mortes', f.avg('Novas_Mortes').over(w))\\\n",
    "                        .withColumn('Média_Móvel_Casos', f.round('Média_Móvel_Casos',2))\\\n",
    "                        .withColumn('Média_Móvel_Mortes', f.round('Média_Móvel_Mortes',2))\\\n",
    "                        .drop('Novos_Casos','Novas_Mortes')\\\n",
    "                        .orderBy('Data')"
   ]
  },
  {
   "cell_type": "code",
   "execution_count": 12,
   "metadata": {},
   "outputs": [
    {
     "data": {
      "text/html": [
       "<div>\n",
       "<style scoped>\n",
       "    .dataframe tbody tr th:only-of-type {\n",
       "        vertical-align: middle;\n",
       "    }\n",
       "\n",
       "    .dataframe tbody tr th {\n",
       "        vertical-align: top;\n",
       "    }\n",
       "\n",
       "    .dataframe thead th {\n",
       "        text-align: right;\n",
       "    }\n",
       "</style>\n",
       "<table border=\"1\" class=\"dataframe\">\n",
       "  <thead>\n",
       "    <tr style=\"text-align: right;\">\n",
       "      <th></th>\n",
       "      <th>Data</th>\n",
       "      <th>Município</th>\n",
       "      <th>Município_Cod</th>\n",
       "      <th>Região</th>\n",
       "      <th>UF</th>\n",
       "      <th>Média_Móvel_Casos</th>\n",
       "      <th>Média_Móvel_Mortes</th>\n",
       "    </tr>\n",
       "  </thead>\n",
       "  <tbody>\n",
       "    <tr>\n",
       "      <th>0</th>\n",
       "      <td>2020-03-27</td>\n",
       "      <td>Santa Terezinha</td>\n",
       "      <td>2612802</td>\n",
       "      <td>Nordeste</td>\n",
       "      <td>PE</td>\n",
       "      <td>NaN</td>\n",
       "      <td>NaN</td>\n",
       "    </tr>\n",
       "    <tr>\n",
       "      <th>1</th>\n",
       "      <td>2020-03-27</td>\n",
       "      <td>Rio Bonito</td>\n",
       "      <td>3304300</td>\n",
       "      <td>Sudeste</td>\n",
       "      <td>RJ</td>\n",
       "      <td>NaN</td>\n",
       "      <td>NaN</td>\n",
       "    </tr>\n",
       "    <tr>\n",
       "      <th>2</th>\n",
       "      <td>2020-03-27</td>\n",
       "      <td>Guarda-Mor</td>\n",
       "      <td>3128600</td>\n",
       "      <td>Sudeste</td>\n",
       "      <td>MG</td>\n",
       "      <td>NaN</td>\n",
       "      <td>NaN</td>\n",
       "    </tr>\n",
       "    <tr>\n",
       "      <th>3</th>\n",
       "      <td>2020-03-27</td>\n",
       "      <td>Goianinha</td>\n",
       "      <td>2404200</td>\n",
       "      <td>Nordeste</td>\n",
       "      <td>RN</td>\n",
       "      <td>NaN</td>\n",
       "      <td>NaN</td>\n",
       "    </tr>\n",
       "    <tr>\n",
       "      <th>4</th>\n",
       "      <td>2020-03-27</td>\n",
       "      <td>Iturama</td>\n",
       "      <td>3134400</td>\n",
       "      <td>Sudeste</td>\n",
       "      <td>MG</td>\n",
       "      <td>NaN</td>\n",
       "      <td>NaN</td>\n",
       "    </tr>\n",
       "  </tbody>\n",
       "</table>\n",
       "</div>"
      ],
      "text/plain": [
       "         Data        Município Município_Cod    Região  UF  Média_Móvel_Casos  \\\n",
       "0  2020-03-27  Santa Terezinha       2612802  Nordeste  PE                NaN   \n",
       "1  2020-03-27       Rio Bonito       3304300   Sudeste  RJ                NaN   \n",
       "2  2020-03-27       Guarda-Mor       3128600   Sudeste  MG                NaN   \n",
       "3  2020-03-27        Goianinha       2404200  Nordeste  RN                NaN   \n",
       "4  2020-03-27          Iturama       3134400   Sudeste  MG                NaN   \n",
       "\n",
       "   Média_Móvel_Mortes  \n",
       "0                 NaN  \n",
       "1                 NaN  \n",
       "2                 NaN  \n",
       "3                 NaN  \n",
       "4                 NaN  "
      ]
     },
     "execution_count": 12,
     "metadata": {},
     "output_type": "execute_result"
    }
   ],
   "source": [
    "df_mvg_avg_munic.limit(5).toPandas()"
   ]
  },
  {
   "cell_type": "code",
   "execution_count": 13,
   "metadata": {},
   "outputs": [
    {
     "data": {
      "text/plain": [
       "1180840"
      ]
     },
     "execution_count": 13,
     "metadata": {},
     "output_type": "execute_result"
    }
   ],
   "source": [
    "df_mvg_avg_munic.count()"
   ]
  },
  {
   "cell_type": "code",
   "execution_count": 14,
   "metadata": {},
   "outputs": [],
   "source": [
    "df_mvg_avg_munic.toPandas()\\\n",
    "  .to_csv(main_path+'aggregations/df_mvg_avg_munic.csv', sep=';', index=False, encoding='UTF-8')"
   ]
  },
  {
   "cell_type": "markdown",
   "metadata": {},
   "source": [
    "#### 5.3. Letalidade x Último Dia x Município"
   ]
  },
  {
   "cell_type": "code",
   "execution_count": 18,
   "metadata": {},
   "outputs": [],
   "source": [
    "df_let_munic = df.filter(f.col('Data') == f.lit(data_max)) \\\n",
    "                .select('Município','Município_Cod','Casos_Cumul','Mortes_Cumul','Região','UF')\\\n",
    "                .withColumn('Taxa_Letalidade', f.round(f.col('Mortes_Cumul') / f.col('Casos_Cumul'), 4))"
   ]
  },
  {
   "cell_type": "code",
   "execution_count": 19,
   "metadata": {},
   "outputs": [
    {
     "data": {
      "text/html": [
       "<div>\n",
       "<style scoped>\n",
       "    .dataframe tbody tr th:only-of-type {\n",
       "        vertical-align: middle;\n",
       "    }\n",
       "\n",
       "    .dataframe tbody tr th {\n",
       "        vertical-align: top;\n",
       "    }\n",
       "\n",
       "    .dataframe thead th {\n",
       "        text-align: right;\n",
       "    }\n",
       "</style>\n",
       "<table border=\"1\" class=\"dataframe\">\n",
       "  <thead>\n",
       "    <tr style=\"text-align: right;\">\n",
       "      <th></th>\n",
       "      <th>Município</th>\n",
       "      <th>Município_Cod</th>\n",
       "      <th>Casos_Cumul</th>\n",
       "      <th>Mortes_Cumul</th>\n",
       "      <th>Região</th>\n",
       "      <th>UF</th>\n",
       "      <th>Taxa_Letalidade</th>\n",
       "    </tr>\n",
       "  </thead>\n",
       "  <tbody>\n",
       "    <tr>\n",
       "      <th>0</th>\n",
       "      <td>Envira</td>\n",
       "      <td>1301506</td>\n",
       "      <td>849</td>\n",
       "      <td>2</td>\n",
       "      <td>Norte</td>\n",
       "      <td>AM</td>\n",
       "      <td>0.0024</td>\n",
       "    </tr>\n",
       "    <tr>\n",
       "      <th>1</th>\n",
       "      <td>Chaves</td>\n",
       "      <td>1502509</td>\n",
       "      <td>180</td>\n",
       "      <td>1</td>\n",
       "      <td>Norte</td>\n",
       "      <td>PA</td>\n",
       "      <td>0.0056</td>\n",
       "    </tr>\n",
       "    <tr>\n",
       "      <th>2</th>\n",
       "      <td>Amapá</td>\n",
       "      <td>1600105</td>\n",
       "      <td>774</td>\n",
       "      <td>4</td>\n",
       "      <td>Norte</td>\n",
       "      <td>AP</td>\n",
       "      <td>0.0052</td>\n",
       "    </tr>\n",
       "    <tr>\n",
       "      <th>3</th>\n",
       "      <td>Pedra Branca do Amapari</td>\n",
       "      <td>1600154</td>\n",
       "      <td>2753</td>\n",
       "      <td>5</td>\n",
       "      <td>Norte</td>\n",
       "      <td>AP</td>\n",
       "      <td>0.0018</td>\n",
       "    </tr>\n",
       "    <tr>\n",
       "      <th>4</th>\n",
       "      <td>Tartarugalzinho</td>\n",
       "      <td>1600709</td>\n",
       "      <td>1288</td>\n",
       "      <td>4</td>\n",
       "      <td>Norte</td>\n",
       "      <td>AP</td>\n",
       "      <td>0.0031</td>\n",
       "    </tr>\n",
       "  </tbody>\n",
       "</table>\n",
       "</div>"
      ],
      "text/plain": [
       "                 Município Município_Cod Casos_Cumul Mortes_Cumul Região  UF  \\\n",
       "0                   Envira       1301506         849            2  Norte  AM   \n",
       "1                   Chaves       1502509         180            1  Norte  PA   \n",
       "2                    Amapá       1600105         774            4  Norte  AP   \n",
       "3  Pedra Branca do Amapari       1600154        2753            5  Norte  AP   \n",
       "4          Tartarugalzinho       1600709        1288            4  Norte  AP   \n",
       "\n",
       "   Taxa_Letalidade  \n",
       "0           0.0024  \n",
       "1           0.0056  \n",
       "2           0.0052  \n",
       "3           0.0018  \n",
       "4           0.0031  "
      ]
     },
     "execution_count": 19,
     "metadata": {},
     "output_type": "execute_result"
    }
   ],
   "source": [
    "df_let_munic.limit(5).toPandas()"
   ]
  },
  {
   "cell_type": "code",
   "execution_count": 20,
   "metadata": {},
   "outputs": [
    {
     "data": {
      "text/plain": [
       "5570"
      ]
     },
     "execution_count": 20,
     "metadata": {},
     "output_type": "execute_result"
    }
   ],
   "source": [
    "df_let_munic.count()"
   ]
  },
  {
   "cell_type": "code",
   "execution_count": 21,
   "metadata": {},
   "outputs": [],
   "source": [
    "df_let_munic.toPandas()\\\n",
    "  .to_csv(main_path+'aggregations/df_let_munic.csv', sep=';', index=False, encoding='UTF-8')"
   ]
  },
  {
   "cell_type": "markdown",
   "metadata": {},
   "source": [
    "### 6. Classificação dos municípios pelo nível de impacto\n",
    "\n",
    "* Municípios que oscilam entre -20% e +20% com relação à letalidade média Brasil são do grupo Impacto Médio\n",
    "* Municípios com letalidade inferior à -20% da letalidade média Brasil são do grupo Baixo Impacto\n",
    "* Municípios com letalidade superior à +20% da letalidade média Brasil são do grupo Alto Impacto"
   ]
  },
  {
   "cell_type": "code",
   "execution_count": 25,
   "metadata": {},
   "outputs": [
    {
     "data": {
      "text/plain": [
       "0.0292"
      ]
     },
     "execution_count": 25,
     "metadata": {},
     "output_type": "execute_result"
    }
   ],
   "source": [
    "value_let_br = df_let_br.select('Taxa_Letalidade').toPandas()['Taxa_Letalidade'][0]\n",
    "value_let_br"
   ]
  },
  {
   "cell_type": "code",
   "execution_count": 26,
   "metadata": {},
   "outputs": [],
   "source": [
    "df_class_munic = df_let_munic.withColumn('Taxa_Letalidade_Br', f.lit(value_let_br))\\\n",
    "                             .withColumn('Desvio_Br', \n",
    "                                         (f.col('Taxa_Letalidade')-f.col('Taxa_Letalidade_Br'))/f.col('Taxa_Letalidade_Br'))\\\n",
    "                             .withColumn('Impacto', \n",
    "                                         f.when((f.col('Desvio_Br') >= -0.2) & (f.col('Desvio_Br') <= 0.2), 'Impacto_Médio')\\\n",
    "                                          .otherwise(f.when(f.col('Desvio_Br') < -0.2, 'Impacto_Baixo')\\\n",
    "                                                      .otherwise(f.when(f.col('Desvio_Br') > 0.2, 'Impacto_Alto'))))"
   ]
  },
  {
   "cell_type": "code",
   "execution_count": 27,
   "metadata": {},
   "outputs": [
    {
     "data": {
      "text/html": [
       "<div>\n",
       "<style scoped>\n",
       "    .dataframe tbody tr th:only-of-type {\n",
       "        vertical-align: middle;\n",
       "    }\n",
       "\n",
       "    .dataframe tbody tr th {\n",
       "        vertical-align: top;\n",
       "    }\n",
       "\n",
       "    .dataframe thead th {\n",
       "        text-align: right;\n",
       "    }\n",
       "</style>\n",
       "<table border=\"1\" class=\"dataframe\">\n",
       "  <thead>\n",
       "    <tr style=\"text-align: right;\">\n",
       "      <th></th>\n",
       "      <th>Município</th>\n",
       "      <th>Município_Cod</th>\n",
       "      <th>Casos_Cumul</th>\n",
       "      <th>Mortes_Cumul</th>\n",
       "      <th>Região</th>\n",
       "      <th>UF</th>\n",
       "      <th>Taxa_Letalidade</th>\n",
       "      <th>Taxa_Letalidade_Br</th>\n",
       "      <th>Desvio_Br</th>\n",
       "      <th>Impacto</th>\n",
       "    </tr>\n",
       "  </thead>\n",
       "  <tbody>\n",
       "    <tr>\n",
       "      <th>0</th>\n",
       "      <td>Envira</td>\n",
       "      <td>1301506</td>\n",
       "      <td>849</td>\n",
       "      <td>2</td>\n",
       "      <td>Norte</td>\n",
       "      <td>AM</td>\n",
       "      <td>0.0024</td>\n",
       "      <td>0.0292</td>\n",
       "      <td>-0.917808</td>\n",
       "      <td>Impacto_Baixo</td>\n",
       "    </tr>\n",
       "    <tr>\n",
       "      <th>1</th>\n",
       "      <td>Chaves</td>\n",
       "      <td>1502509</td>\n",
       "      <td>180</td>\n",
       "      <td>1</td>\n",
       "      <td>Norte</td>\n",
       "      <td>PA</td>\n",
       "      <td>0.0056</td>\n",
       "      <td>0.0292</td>\n",
       "      <td>-0.808219</td>\n",
       "      <td>Impacto_Baixo</td>\n",
       "    </tr>\n",
       "    <tr>\n",
       "      <th>2</th>\n",
       "      <td>Amapá</td>\n",
       "      <td>1600105</td>\n",
       "      <td>774</td>\n",
       "      <td>4</td>\n",
       "      <td>Norte</td>\n",
       "      <td>AP</td>\n",
       "      <td>0.0052</td>\n",
       "      <td>0.0292</td>\n",
       "      <td>-0.821918</td>\n",
       "      <td>Impacto_Baixo</td>\n",
       "    </tr>\n",
       "    <tr>\n",
       "      <th>3</th>\n",
       "      <td>Pedra Branca do Amapari</td>\n",
       "      <td>1600154</td>\n",
       "      <td>2753</td>\n",
       "      <td>5</td>\n",
       "      <td>Norte</td>\n",
       "      <td>AP</td>\n",
       "      <td>0.0018</td>\n",
       "      <td>0.0292</td>\n",
       "      <td>-0.938356</td>\n",
       "      <td>Impacto_Baixo</td>\n",
       "    </tr>\n",
       "    <tr>\n",
       "      <th>4</th>\n",
       "      <td>Tartarugalzinho</td>\n",
       "      <td>1600709</td>\n",
       "      <td>1288</td>\n",
       "      <td>4</td>\n",
       "      <td>Norte</td>\n",
       "      <td>AP</td>\n",
       "      <td>0.0031</td>\n",
       "      <td>0.0292</td>\n",
       "      <td>-0.893836</td>\n",
       "      <td>Impacto_Baixo</td>\n",
       "    </tr>\n",
       "  </tbody>\n",
       "</table>\n",
       "</div>"
      ],
      "text/plain": [
       "                 Município Município_Cod Casos_Cumul Mortes_Cumul Região  UF  \\\n",
       "0                   Envira       1301506         849            2  Norte  AM   \n",
       "1                   Chaves       1502509         180            1  Norte  PA   \n",
       "2                    Amapá       1600105         774            4  Norte  AP   \n",
       "3  Pedra Branca do Amapari       1600154        2753            5  Norte  AP   \n",
       "4          Tartarugalzinho       1600709        1288            4  Norte  AP   \n",
       "\n",
       "   Taxa_Letalidade  Taxa_Letalidade_Br  Desvio_Br        Impacto  \n",
       "0           0.0024              0.0292  -0.917808  Impacto_Baixo  \n",
       "1           0.0056              0.0292  -0.808219  Impacto_Baixo  \n",
       "2           0.0052              0.0292  -0.821918  Impacto_Baixo  \n",
       "3           0.0018              0.0292  -0.938356  Impacto_Baixo  \n",
       "4           0.0031              0.0292  -0.893836  Impacto_Baixo  "
      ]
     },
     "execution_count": 27,
     "metadata": {},
     "output_type": "execute_result"
    }
   ],
   "source": [
    "df_class_munic.limit(5).toPandas()"
   ]
  },
  {
   "cell_type": "code",
   "execution_count": 28,
   "metadata": {},
   "outputs": [
    {
     "data": {
      "text/plain": [
       "5570"
      ]
     },
     "execution_count": 28,
     "metadata": {},
     "output_type": "execute_result"
    }
   ],
   "source": [
    "df_class_munic.count()"
   ]
  },
  {
   "cell_type": "code",
   "execution_count": 29,
   "metadata": {},
   "outputs": [],
   "source": [
    "df_class_munic.toPandas()\\\n",
    "  .to_csv(main_path+'aggregations/df_class_munic.csv', sep=';', index=False, encoding='UTF-8')"
   ]
  },
  {
   "cell_type": "code",
   "execution_count": null,
   "metadata": {},
   "outputs": [],
   "source": []
  }
 ],
 "metadata": {
  "kernelspec": {
   "display_name": "Python 3",
   "language": "python",
   "name": "python3"
  },
  "language_info": {
   "codemirror_mode": {
    "name": "ipython",
    "version": 3
   },
   "file_extension": ".py",
   "mimetype": "text/x-python",
   "name": "python",
   "nbconvert_exporter": "python",
   "pygments_lexer": "ipython3",
   "version": "3.8.5"
  }
 },
 "nbformat": 4,
 "nbformat_minor": 4
}
