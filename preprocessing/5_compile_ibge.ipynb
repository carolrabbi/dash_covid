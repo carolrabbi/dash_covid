{
 "cells": [
  {
   "cell_type": "markdown",
   "metadata": {},
   "source": [
    "### Compile IBGE municipal indexes\n",
    "(Spark)\n",
    "\n",
    "* Objetivo: filtrar apenas alguns indicadores para investigar\n",
    "\n",
    "* Inputs:\n",
    "    * /datasets/pesquisas_ibge_cidades/df_pesquisa/ (parquet)\n",
    "    * /datasets/pesquisas_ibge_cidades/df_indicador/ (parquet)\n",
    "    * /datasets/pesquisas_ibge_cidades/df_resultado/ (parquet)\n",
    "* Outputs:\n",
    "    * /datasets/prepared/df_ind_ibge_complete/ (parquet)\n",
    "    * /datasets/prepared/pd_df_ind_ibge_complete.csv"
   ]
  },
  {
   "cell_type": "code",
   "execution_count": 1,
   "metadata": {},
   "outputs": [],
   "source": [
    "# Spark\n",
    "import findspark\n",
    "findspark.init()\n",
    "\n",
    "from pyspark.sql import SparkSession\n",
    "import pyspark.sql.functions as f\n",
    "import pyspark.sql.types as t\n",
    "from pyspark.sql.window import Window\n",
    "\n",
    "spark = SparkSession \\\n",
    "            .builder \\\n",
    "            .config(\"spark.sql.broadcastTimeout\", \"360000\") \\\n",
    "            .config('spark.sql.execution.arrow.enabled', 'false') \\\n",
    "            .config(\"spark.driver.memory\", '14G') \\\n",
    "            .config(\"spark.executor.memory\", '14G') \\\n",
    "            .config(\"spark.driver.maxResultSize\", '4G') \\\n",
    "            .getOrCreate()"
   ]
  },
  {
   "cell_type": "code",
   "execution_count": 2,
   "metadata": {},
   "outputs": [],
   "source": [
    "import pandas as pd\n",
    "\n",
    "pd.set_option('display.max_rows', None)\n",
    "pd.set_option('display.max_colwidth', None)"
   ]
  },
  {
   "cell_type": "markdown",
   "metadata": {},
   "source": [
    "### 0. Constantes"
   ]
  },
  {
   "cell_type": "code",
   "execution_count": 3,
   "metadata": {},
   "outputs": [],
   "source": [
    "main_path = 'D:/data_dash_covid/datasets/'"
   ]
  },
  {
   "cell_type": "markdown",
   "metadata": {},
   "source": [
    "### 1. Read data"
   ]
  },
  {
   "cell_type": "code",
   "execution_count": 4,
   "metadata": {},
   "outputs": [],
   "source": [
    "df_pesquisa = spark.read.parquet(main_path+'pesquisas_ibge_cidades/df_pesquisa/')\\\n",
    "                    .withColumnRenamed('id','id_pesquisa')\\\n",
    "                    .withColumnRenamed('nome','nome_pesquisa')\n",
    "\n",
    "# print(df_pesquisa.count(), len(df_pesquisa.columns))"
   ]
  },
  {
   "cell_type": "code",
   "execution_count": 5,
   "metadata": {},
   "outputs": [],
   "source": [
    "df_indicador = spark.read.parquet(main_path+'pesquisas_ibge_cidades/df_indicador/')\\\n",
    "                    .withColumnRenamed('id','id_indicador')\\\n",
    "                    .withColumnRenamed('nome','nome_indicador')\n",
    "\n",
    "# print(df_indicador.count(), len(df_indicador.columns))"
   ]
  },
  {
   "cell_type": "code",
   "execution_count": 6,
   "metadata": {
    "scrolled": true
   },
   "outputs": [],
   "source": [
    "df_resultado = spark.read.parquet(main_path+'pesquisas_ibge_cidades/df_resultado/')\n",
    "\n",
    "# print(df_resultado.count(), len(df_resultado.columns))"
   ]
  },
  {
   "cell_type": "code",
   "execution_count": 7,
   "metadata": {},
   "outputs": [],
   "source": [
    "df_details_ind_ibge = spark.read.format('csv').option('header', 'true')\\\n",
    "                           .load('D:/data_dash_covid/datasets/prepared/details_ind_ibge/*.csv', sep=';')\n",
    "\n",
    "# print(df_details_ind_ibge.count(), len(df_details_ind_ibge.columns))"
   ]
  },
  {
   "cell_type": "markdown",
   "metadata": {},
   "source": [
    "### 2. Select Pesquisas\n",
    "\n",
    "Dentre as 77 pesquisas disponíveis, selecionar as que têm a ver com Saúde / Educação / Economia"
   ]
  },
  {
   "cell_type": "code",
   "execution_count": 8,
   "metadata": {
    "scrolled": true
   },
   "outputs": [],
   "source": [
    "# df_pesquisa.toPandas()"
   ]
  },
  {
   "cell_type": "code",
   "execution_count": 9,
   "metadata": {},
   "outputs": [],
   "source": [
    "ids_pesquisas_gerais = [1,22,23,33,36,37,44,45,10058,10059,10079,10091]\n",
    "ids_pesquisas_saude = [17,30,32,39,47,10055,10087,10093]\n",
    "ids_pesquisas_educacao = [13,40,10056,]\n",
    "ids_pesquisas_economia = [21,29,38,46,10062,10063,10075,10083]"
   ]
  },
  {
   "cell_type": "markdown",
   "metadata": {},
   "source": [
    "### 3. Join Resultados < Indicadores < Details < Pesquisas\n",
    "\n",
    "Só é possível dar join (Pesq e Ind) pela de Resultados.\n",
    "* Agrupa pelo maior ano disponível de cada indicador\n",
    "* Join Pesquisas, Indicadores e Details\n",
    "* Seleciona só os indicadores das pesquisas previamente escolhidas\n",
    "* Remove os indicadores anteriores a 2008\n",
    "* Remove os indicadores muito específicos (nível acima de 4)"
   ]
  },
  {
   "cell_type": "code",
   "execution_count": 11,
   "metadata": {},
   "outputs": [],
   "source": [
    "df_resultado_max = df_resultado.groupBy('id_pesquisa','id_indicador')\\\n",
    "                                .agg(f.max('periodo').alias('periodo'))\\\n",
    "                                .join(df_indicador, 'id_indicador', 'left')\\\n",
    "                                .join(df_pesquisa, 'id_pesquisa', 'left')\\\n",
    "                                .filter(f.col('id_pesquisa').isin(ids_pesquisas_gerais + ids_pesquisas_saude + \n",
    "                                                                  ids_pesquisas_educacao + ids_pesquisas_economia))\\\n",
    "                                .filter(f.col('periodo') >= 2008)\\\n",
    "                                .join(df_details_ind_ibge, 'id_indicador', 'left')\\\n",
    "                                .filter(f.col('nivel_indicador') <= 4)\\\n",
    "                                .orderBy('id_pesquisa','id_indicador')"
   ]
  },
  {
   "cell_type": "code",
   "execution_count": 12,
   "metadata": {},
   "outputs": [
    {
     "data": {
      "text/html": [
       "<div>\n",
       "<style scoped>\n",
       "    .dataframe tbody tr th:only-of-type {\n",
       "        vertical-align: middle;\n",
       "    }\n",
       "\n",
       "    .dataframe tbody tr th {\n",
       "        vertical-align: top;\n",
       "    }\n",
       "\n",
       "    .dataframe thead th {\n",
       "        text-align: right;\n",
       "    }\n",
       "</style>\n",
       "<table border=\"1\" class=\"dataframe\">\n",
       "  <thead>\n",
       "    <tr style=\"text-align: right;\">\n",
       "      <th></th>\n",
       "      <th>nivel_indicador</th>\n",
       "      <th>count</th>\n",
       "    </tr>\n",
       "  </thead>\n",
       "  <tbody>\n",
       "    <tr>\n",
       "      <th>0</th>\n",
       "      <td>4</td>\n",
       "      <td>110</td>\n",
       "    </tr>\n",
       "    <tr>\n",
       "      <th>1</th>\n",
       "      <td>3</td>\n",
       "      <td>108</td>\n",
       "    </tr>\n",
       "    <tr>\n",
       "      <th>2</th>\n",
       "      <td>2</td>\n",
       "      <td>39</td>\n",
       "    </tr>\n",
       "    <tr>\n",
       "      <th>3</th>\n",
       "      <td>1</td>\n",
       "      <td>22</td>\n",
       "    </tr>\n",
       "  </tbody>\n",
       "</table>\n",
       "</div>"
      ],
      "text/plain": [
       "  nivel_indicador  count\n",
       "0               4    110\n",
       "1               3    108\n",
       "2               2     39\n",
       "3               1     22"
      ]
     },
     "execution_count": 12,
     "metadata": {},
     "output_type": "execute_result"
    }
   ],
   "source": [
    "# Quantos indicadores afinal\n",
    "\n",
    "df_resultado_max.groupBy('nivel_indicador')\\\n",
    "                .agg(f.countDistinct('id_indicador').alias('count'))\\\n",
    "                .orderBy(f.desc('count')).toPandas()"
   ]
  },
  {
   "cell_type": "markdown",
   "metadata": {},
   "source": [
    "### 4. Join df_resultado_max com o geral, para pegar o valor (resultado) de cada cidade"
   ]
  },
  {
   "cell_type": "code",
   "execution_count": 13,
   "metadata": {},
   "outputs": [],
   "source": [
    "df_ind_ibge_complete = df_resultado_max.filter(f.col('nivel_indicador').isNotNull())\\\n",
    "                                       .join(df_resultado.select('id_indicador','periodo','id_cidade','resultado',),\n",
    "                                             ['id_indicador','periodo'], 'left')"
   ]
  },
  {
   "cell_type": "code",
   "execution_count": 14,
   "metadata": {},
   "outputs": [
    {
     "data": {
      "text/plain": [
       "1206670"
      ]
     },
     "execution_count": 14,
     "metadata": {},
     "output_type": "execute_result"
    }
   ],
   "source": [
    "df_ind_ibge_complete.count()"
   ]
  },
  {
   "cell_type": "code",
   "execution_count": 15,
   "metadata": {},
   "outputs": [
    {
     "name": "stdout",
     "output_type": "stream",
     "text": [
      "root\n",
      " |-- id_indicador: integer (nullable = true)\n",
      " |-- periodo: integer (nullable = true)\n",
      " |-- id_pesquisa: integer (nullable = true)\n",
      " |-- nome_indicador: string (nullable = true)\n",
      " |-- nome_pesquisa: string (nullable = true)\n",
      " |-- arvore_indicador: string (nullable = true)\n",
      " |-- descri_indicador: string (nullable = true)\n",
      " |-- nivel_indicador: string (nullable = true)\n",
      " |-- nome_completo_indicador: string (nullable = true)\n",
      " |-- id_cidade: integer (nullable = true)\n",
      " |-- resultado: string (nullable = true)\n",
      "\n"
     ]
    }
   ],
   "source": [
    "df_ind_ibge_complete.printSchema()"
   ]
  },
  {
   "cell_type": "code",
   "execution_count": 16,
   "metadata": {},
   "outputs": [],
   "source": [
    "df_ind_ibge_complete.write.parquet(main_path+'prepared/df_ind_ibge_complete/', mode='overwrite')"
   ]
  },
  {
   "cell_type": "code",
   "execution_count": null,
   "metadata": {},
   "outputs": [],
   "source": [
    "df_ind_ibge_complete.toPandas().to_csv(main_path+'prepared/pd_df_ind_ibge_complete.csv', index=False, encoding='utf-8')"
   ]
  }
 ],
 "metadata": {
  "kernelspec": {
   "display_name": "Python 3",
   "language": "python",
   "name": "python3"
  },
  "language_info": {
   "codemirror_mode": {
    "name": "ipython",
    "version": 3
   },
   "file_extension": ".py",
   "mimetype": "text/x-python",
   "name": "python",
   "nbconvert_exporter": "python",
   "pygments_lexer": "ipython3",
   "version": "3.8.5"
  }
 },
 "nbformat": 4,
 "nbformat_minor": 4
}
